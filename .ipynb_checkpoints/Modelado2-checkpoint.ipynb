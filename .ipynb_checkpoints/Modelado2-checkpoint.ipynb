{
 "cells": [
  {
   "cell_type": "markdown",
   "id": "17a6ab1c-1b64-4068-9c37-4a0d7e9b2ee9",
   "metadata": {},
   "source": [
    "## Modelado 2"
   ]
  },
  {
   "cell_type": "code",
   "execution_count": null,
   "id": "5061ba3a-df25-4130-9198-08c055b43a45",
   "metadata": {},
   "outputs": [],
   "source": []
  }
 ],
 "metadata": {
  "kernelspec": {
   "display_name": "Python 3 (ipykernel)",
   "language": "python",
   "name": "python3"
  },
  "language_info": {
   "codemirror_mode": {
    "name": "ipython",
    "version": 3
   },
   "file_extension": ".py",
   "mimetype": "text/x-python",
   "name": "python",
   "nbconvert_exporter": "python",
   "pygments_lexer": "ipython3",
   "version": "3.13.3"
  }
 },
 "nbformat": 4,
 "nbformat_minor": 5
}
