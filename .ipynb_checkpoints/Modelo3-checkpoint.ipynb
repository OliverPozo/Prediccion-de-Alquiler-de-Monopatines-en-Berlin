{
 "cells": [
  {
   "cell_type": "markdown",
   "id": "d9613ff7-f8c8-4d14-a77f-98340052e046",
   "metadata": {},
   "source": [
    "## Modelo 3"
   ]
  },
  {
   "cell_type": "code",
   "execution_count": 77,
   "id": "3bdc9a75-3cd2-4d11-9423-2af1cccb6b68",
   "metadata": {},
   "outputs": [],
   "source": [
    "import pandas as pd\n",
    "import numpy as np\n",
    "import matplotlib.pyplot as plt\n",
    "import seaborn as sns\n",
    "from sklearn import preprocessing\n",
    "from sklearn.model_selection import train_test_split\n",
    "from sklearn.model_selection import GridSearchCV, RandomizedSearchCV\n",
    "from sklearn.preprocessing import StandardScaler\n",
    "from sklearn.linear_model import LinearRegression, Ridge, Lasso\n",
    "from sklearn.ensemble import RandomForestRegressor, HistGradientBoostingRegressor\n",
    "from sklearn.ensemble import GradientBoostingRegressor\n",
    "from sklearn.compose import ColumnTransformer\n",
    "from sklearn.metrics import mean_squared_error, r2_score"
   ]
  },
  {
   "cell_type": "code",
   "execution_count": 14,
   "id": "430a4146-8083-4267-83c1-3f6582e14c89",
   "metadata": {},
   "outputs": [
    {
     "data": {
      "text/html": [
       "<div>\n",
       "<style scoped>\n",
       "    .dataframe tbody tr th:only-of-type {\n",
       "        vertical-align: middle;\n",
       "    }\n",
       "\n",
       "    .dataframe tbody tr th {\n",
       "        vertical-align: top;\n",
       "    }\n",
       "\n",
       "    .dataframe thead th {\n",
       "        text-align: right;\n",
       "    }\n",
       "</style>\n",
       "<table border=\"1\" class=\"dataframe\">\n",
       "  <thead>\n",
       "    <tr style=\"text-align: right;\">\n",
       "      <th></th>\n",
       "      <th>temperatura</th>\n",
       "      <th>sensacion_termica</th>\n",
       "      <th>humedad</th>\n",
       "      <th>velocidad_viento</th>\n",
       "      <th>total_alquileres</th>\n",
       "      <th>temporada_1</th>\n",
       "      <th>temporada_2</th>\n",
       "      <th>temporada_3</th>\n",
       "      <th>temporada_4</th>\n",
       "      <th>anio_0</th>\n",
       "      <th>...</th>\n",
       "      <th>dia_semana_3.0</th>\n",
       "      <th>dia_semana_4.0</th>\n",
       "      <th>dia_semana_5.0</th>\n",
       "      <th>dia_semana_6.0</th>\n",
       "      <th>dia_trabajo_0</th>\n",
       "      <th>dia_trabajo_1</th>\n",
       "      <th>clima_1</th>\n",
       "      <th>clima_2</th>\n",
       "      <th>clima_3</th>\n",
       "      <th>clima_4</th>\n",
       "    </tr>\n",
       "  </thead>\n",
       "  <tbody>\n",
       "    <tr>\n",
       "      <th>0</th>\n",
       "      <td>0.24</td>\n",
       "      <td>0.2879</td>\n",
       "      <td>0.81</td>\n",
       "      <td>0.0</td>\n",
       "      <td>16.0</td>\n",
       "      <td>1.0</td>\n",
       "      <td>0.0</td>\n",
       "      <td>0.0</td>\n",
       "      <td>0.0</td>\n",
       "      <td>1.0</td>\n",
       "      <td>...</td>\n",
       "      <td>0.0</td>\n",
       "      <td>0.0</td>\n",
       "      <td>0.0</td>\n",
       "      <td>1.0</td>\n",
       "      <td>1.0</td>\n",
       "      <td>0.0</td>\n",
       "      <td>1.0</td>\n",
       "      <td>0.0</td>\n",
       "      <td>0.0</td>\n",
       "      <td>0.0</td>\n",
       "    </tr>\n",
       "    <tr>\n",
       "      <th>1</th>\n",
       "      <td>0.22</td>\n",
       "      <td>0.2727</td>\n",
       "      <td>0.80</td>\n",
       "      <td>0.0</td>\n",
       "      <td>40.0</td>\n",
       "      <td>1.0</td>\n",
       "      <td>0.0</td>\n",
       "      <td>0.0</td>\n",
       "      <td>0.0</td>\n",
       "      <td>1.0</td>\n",
       "      <td>...</td>\n",
       "      <td>0.0</td>\n",
       "      <td>0.0</td>\n",
       "      <td>0.0</td>\n",
       "      <td>1.0</td>\n",
       "      <td>1.0</td>\n",
       "      <td>0.0</td>\n",
       "      <td>1.0</td>\n",
       "      <td>0.0</td>\n",
       "      <td>0.0</td>\n",
       "      <td>0.0</td>\n",
       "    </tr>\n",
       "    <tr>\n",
       "      <th>2</th>\n",
       "      <td>0.22</td>\n",
       "      <td>0.2727</td>\n",
       "      <td>0.80</td>\n",
       "      <td>0.0</td>\n",
       "      <td>32.0</td>\n",
       "      <td>1.0</td>\n",
       "      <td>0.0</td>\n",
       "      <td>0.0</td>\n",
       "      <td>0.0</td>\n",
       "      <td>1.0</td>\n",
       "      <td>...</td>\n",
       "      <td>0.0</td>\n",
       "      <td>0.0</td>\n",
       "      <td>0.0</td>\n",
       "      <td>1.0</td>\n",
       "      <td>1.0</td>\n",
       "      <td>0.0</td>\n",
       "      <td>1.0</td>\n",
       "      <td>0.0</td>\n",
       "      <td>0.0</td>\n",
       "      <td>0.0</td>\n",
       "    </tr>\n",
       "    <tr>\n",
       "      <th>3</th>\n",
       "      <td>0.24</td>\n",
       "      <td>0.2879</td>\n",
       "      <td>0.75</td>\n",
       "      <td>0.0</td>\n",
       "      <td>13.0</td>\n",
       "      <td>1.0</td>\n",
       "      <td>0.0</td>\n",
       "      <td>0.0</td>\n",
       "      <td>0.0</td>\n",
       "      <td>1.0</td>\n",
       "      <td>...</td>\n",
       "      <td>0.0</td>\n",
       "      <td>0.0</td>\n",
       "      <td>0.0</td>\n",
       "      <td>1.0</td>\n",
       "      <td>1.0</td>\n",
       "      <td>0.0</td>\n",
       "      <td>1.0</td>\n",
       "      <td>0.0</td>\n",
       "      <td>0.0</td>\n",
       "      <td>0.0</td>\n",
       "    </tr>\n",
       "    <tr>\n",
       "      <th>4</th>\n",
       "      <td>0.24</td>\n",
       "      <td>0.2879</td>\n",
       "      <td>0.75</td>\n",
       "      <td>0.0</td>\n",
       "      <td>1.0</td>\n",
       "      <td>1.0</td>\n",
       "      <td>0.0</td>\n",
       "      <td>0.0</td>\n",
       "      <td>0.0</td>\n",
       "      <td>1.0</td>\n",
       "      <td>...</td>\n",
       "      <td>0.0</td>\n",
       "      <td>0.0</td>\n",
       "      <td>0.0</td>\n",
       "      <td>1.0</td>\n",
       "      <td>1.0</td>\n",
       "      <td>0.0</td>\n",
       "      <td>1.0</td>\n",
       "      <td>0.0</td>\n",
       "      <td>0.0</td>\n",
       "      <td>0.0</td>\n",
       "    </tr>\n",
       "  </tbody>\n",
       "</table>\n",
       "<p>5 rows × 62 columns</p>\n",
       "</div>"
      ],
      "text/plain": [
       "   temperatura  sensacion_termica  humedad  velocidad_viento  \\\n",
       "0         0.24             0.2879     0.81               0.0   \n",
       "1         0.22             0.2727     0.80               0.0   \n",
       "2         0.22             0.2727     0.80               0.0   \n",
       "3         0.24             0.2879     0.75               0.0   \n",
       "4         0.24             0.2879     0.75               0.0   \n",
       "\n",
       "   total_alquileres  temporada_1  temporada_2  temporada_3  temporada_4  \\\n",
       "0              16.0          1.0          0.0          0.0          0.0   \n",
       "1              40.0          1.0          0.0          0.0          0.0   \n",
       "2              32.0          1.0          0.0          0.0          0.0   \n",
       "3              13.0          1.0          0.0          0.0          0.0   \n",
       "4               1.0          1.0          0.0          0.0          0.0   \n",
       "\n",
       "   anio_0  ...  dia_semana_3.0  dia_semana_4.0  dia_semana_5.0  \\\n",
       "0     1.0  ...             0.0             0.0             0.0   \n",
       "1     1.0  ...             0.0             0.0             0.0   \n",
       "2     1.0  ...             0.0             0.0             0.0   \n",
       "3     1.0  ...             0.0             0.0             0.0   \n",
       "4     1.0  ...             0.0             0.0             0.0   \n",
       "\n",
       "   dia_semana_6.0  dia_trabajo_0  dia_trabajo_1  clima_1  clima_2  clima_3  \\\n",
       "0             1.0            1.0            0.0      1.0      0.0      0.0   \n",
       "1             1.0            1.0            0.0      1.0      0.0      0.0   \n",
       "2             1.0            1.0            0.0      1.0      0.0      0.0   \n",
       "3             1.0            1.0            0.0      1.0      0.0      0.0   \n",
       "4             1.0            1.0            0.0      1.0      0.0      0.0   \n",
       "\n",
       "   clima_4  \n",
       "0      0.0  \n",
       "1      0.0  \n",
       "2      0.0  \n",
       "3      0.0  \n",
       "4      0.0  \n",
       "\n",
       "[5 rows x 62 columns]"
      ]
     },
     "execution_count": 14,
     "metadata": {},
     "output_type": "execute_result"
    }
   ],
   "source": [
    "df = pd.read_csv('dataset6.csv')\n",
    "df.head()\n"
   ]
  },
  {
   "cell_type": "code",
   "execution_count": 15,
   "id": "47624716-f9b2-4b1e-943b-e478f7744b00",
   "metadata": {},
   "outputs": [],
   "source": [
    "# Separar características (X) y etiqueta (y)\n",
    "X = df.drop(columns=[\"total_alquileres\"])\n",
    "y = df[\"total_alquileres\"]"
   ]
  },
  {
   "cell_type": "code",
   "execution_count": 16,
   "id": "91eb3234-622c-44ff-88ae-33cd21184907",
   "metadata": {},
   "outputs": [],
   "source": [
    "y_log = np.log1p(y)"
   ]
  },
  {
   "cell_type": "code",
   "execution_count": 24,
   "id": "17f0a53f-33e0-4059-b67f-ac2f52f13057",
   "metadata": {},
   "outputs": [],
   "source": [
    "# División en entrenamiento y prueba\n",
    "X_train, X_test, y_train, y_test = train_test_split(X, y_log, test_size=0.2, random_state=42)"
   ]
  },
  {
   "cell_type": "code",
   "execution_count": 83,
   "id": "a418c22a-96d5-473f-878e-e6192330661f",
   "metadata": {},
   "outputs": [],
   "source": [
    "numeric_cols = ['temperatura', 'sensacion_termica', 'humedad', 'velocidad_viento']\n",
    "ohe_columns = [col for col in X.columns if col not in numeric_cols]"
   ]
  },
  {
   "cell_type": "code",
   "execution_count": 84,
   "id": "f6bd6513-55d1-4929-a58b-9223a53c3d17",
   "metadata": {},
   "outputs": [],
   "source": [
    "# Suponiendo que 'numeric_cols' son las columnas numéricas originales\n",
    "preprocessor = ColumnTransformer(\n",
    "    transformers=[\n",
    "        ('num', StandardScaler(), numeric_cols),  # Escalar numéricas\n",
    "        ('cat', 'passthrough', ohe_columns)       # No tocar las dummies\n",
    "    ])"
   ]
  },
  {
   "cell_type": "code",
   "execution_count": 85,
   "id": "03378fbe-ac4d-4ae0-82e1-340e34e32305",
   "metadata": {},
   "outputs": [],
   "source": [
    "X_train_scaled = preprocessor.fit_transform(X_train)\n",
    "X_test_scaled = preprocessor.fit_transform(X_test)"
   ]
  },
  {
   "cell_type": "code",
   "execution_count": 25,
   "id": "91877b26-8bd7-455c-8361-b9021006eb6c",
   "metadata": {},
   "outputs": [],
   "source": [
    "# Escalar características para modelos sensibles a la escala\n",
    "'''\n",
    "scaler = StandardScaler()\n",
    "X_train_scaled = scaler.fit_transform(X_train)\n",
    "X_test_scaled = scaler.transform(X_test)\\\n",
    "'''"
   ]
  },
  {
   "cell_type": "code",
   "execution_count": 46,
   "id": "cbac5974-0fc3-47c4-a16a-82b2d4988638",
   "metadata": {},
   "outputs": [],
   "source": [
    "def evaluar_modelo(modelo, X_train, X_test, y_train, y_test):\n",
    "    modelo.fit(X_train, y_train)\n",
    "    predicciones = modelo.predict(X_test)\n",
    "    rmse = np.sqrt(mean_squared_error(y_test, predicciones))\n",
    "    r2 = r2_score(y_test, predicciones)\n",
    "    return rmse, r2, modelo"
   ]
  },
  {
   "cell_type": "code",
   "execution_count": 27,
   "id": "79b59231-d2d3-4904-a5f4-f9a00f5458ab",
   "metadata": {},
   "outputs": [],
   "source": [
    "def modelo_lineal(X_train, X_test, y_train, y_test):\n",
    "    lr = LinearRegression()\n",
    "    return evaluar_modelo(lr, X_train, X_test, y_train, y_test)"
   ]
  },
  {
   "cell_type": "code",
   "execution_count": 94,
   "id": "3efdb1d2-bec2-4dc5-9004-a756428590cb",
   "metadata": {},
   "outputs": [],
   "source": [
    "def modelo_lasso(X_train, X_test, y_train, y_test, alphas=[0.01, 0.1, 1.0]):\n",
    "    grid = GridSearchCV(Lasso(max_iter=10000), {'alpha': alphas}, cv=3, scoring='neg_root_mean_squared_error')\n",
    "    grid.fit(X_train, y_train)\n",
    "    return evaluar_modelo(grid.best_estimator_, X_train, X_test, y_train, y_test)"
   ]
  },
  {
   "cell_type": "code",
   "execution_count": 61,
   "id": "a82d4a10-6773-4861-8dd8-be1df798046d",
   "metadata": {},
   "outputs": [],
   "source": [
    "def modelo_elasticnet(X_train, X_test, y_train, y_test, params=None):\n",
    "    if params is None:\n",
    "        params = {'alpha': [0.01, 0.1, 1.0], 'l1_ratio': [0.1, 0.5, 0.9]}\n",
    "    grid = GridSearchCV(ElasticNet(max_iter=10000), params, cv=3, scoring='neg_root_mean_squared_error')\n",
    "    grid.fit(X_train, y_train)\n",
    "    return evaluar_modelo(grid.best_estimator_, X_train, X_test, y_train, y_test)"
   ]
  },
  {
   "cell_type": "code",
   "execution_count": 96,
   "id": "bff0e5be-99af-4787-aa22-01f1c19483e3",
   "metadata": {},
   "outputs": [],
   "source": [
    "def modelo_ridge(X_train, X_test, y_train, y_test, alphas=[0.1, 1.0, 10]):\n",
    "    grid = GridSearchCV(Ridge(), {'alpha': alphas}, cv=3, scoring='neg_root_mean_squared_error')\n",
    "    grid.fit(X_train, y_train)\n",
    "    best_model = grid.best_estimator_\n",
    "    return evaluar_modelo(best_model, X_train, X_test, y_train, y_test)"
   ]
  },
  {
   "cell_type": "code",
   "execution_count": 42,
   "id": "4d82b6d7-2860-41d4-b494-09e7b786755a",
   "metadata": {},
   "outputs": [],
   "source": [
    "def modelo_gradient_boosting(X_train, X_test, y_train, y_test, n_iter=10):\n",
    "    param_dist = {\n",
    "        'n_estimators': [100, 200],\n",
    "        'learning_rate': [0.01, 0.1],\n",
    "        'max_depth': [3, 5, 10]\n",
    "    }\n",
    "    gb = RandomizedSearchCV(GradientBoostingRegressor(), param_dist, n_iter=n_iter, cv=3,\n",
    "                            scoring='neg_root_mean_squared_error', n_jobs=-1, random_state=42)\n",
    "    gb.fit(X_train, y_train)\n",
    "    return evaluar_modelo(gb.best_estimator_, X_train, X_test, y_train, y_test)"
   ]
  },
  {
   "cell_type": "code",
   "execution_count": 50,
   "id": "a2afa165-eb07-4977-b038-6851cd36aae3",
   "metadata": {},
   "outputs": [],
   "source": [
    "def modelo_random_forest(X_train, X_test, y_train, y_test, n_iter=10):\n",
    "    param_dist = {\n",
    "        'n_estimators': [100, 200],\n",
    "        'max_depth': [10, 20, None],\n",
    "        'min_samples_split': [2, 5],\n",
    "        'min_samples_leaf': [1, 2]\n",
    "    }\n",
    "    rf = RandomizedSearchCV(RandomForestRegressor(random_state=42), param_dist, n_iter=n_iter, cv=3,\n",
    "                            scoring='neg_root_mean_squared_error', n_jobs=-1, random_state=42)\n",
    "    rf.fit(X_train, y_train)\n",
    "    return evaluar_modelo(rf.best_estimator_, X_train, X_test, y_train, y_test)"
   ]
  },
  {
   "cell_type": "code",
   "execution_count": 56,
   "id": "3b55e2a2-f5a0-4f8c-912b-bd22bbb8ad82",
   "metadata": {},
   "outputs": [],
   "source": [
    "def modelo_gradient_boosting_hibrido(X_train, X_test, y_train, y_test,\n",
    "                                     param_dist, n_iter=20, cv=3):\n",
    "    # Paso 1: RandomizedSearchCV (exploración)\n",
    "    random_search = RandomizedSearchCV(\n",
    "        GradientBoostingRegressor(),\n",
    "        param_distributions=param_dist,\n",
    "        n_iter=n_iter,\n",
    "        cv=cv,\n",
    "        scoring='neg_root_mean_squared_error',\n",
    "        n_jobs=-1,\n",
    "        random_state=42\n",
    "    )\n",
    "    random_search.fit(X_train, y_train)\n",
    "\n",
    "    best_params = random_search.best_params_\n",
    "\n",
    "    # Paso 2: GridSearchCV (explotación)\n",
    "    param_grid = {\n",
    "        'n_estimators': list(set([\n",
    "            max(10, best_params['n_estimators'] - 50),  # evitando valores negativos\n",
    "            best_params['n_estimators'],\n",
    "            best_params['n_estimators'] + 50\n",
    "        ])),\n",
    "        'max_depth': list(set([\n",
    "            max(1, best_params['max_depth'] - 1),\n",
    "            best_params['max_depth'],\n",
    "            best_params['max_depth'] + 1\n",
    "        ])),\n",
    "        'learning_rate': sorted(list(set([\n",
    "            round(best_params['learning_rate'] * 0.5, 3),\n",
    "            best_params['learning_rate'],\n",
    "            round(best_params['learning_rate'] * 1.5, 3)\n",
    "        ])))\n",
    "    }\n",
    "\n",
    "    grid_search = GridSearchCV(\n",
    "        GradientBoostingRegressor(subsample=best_params['subsample']),\n",
    "        param_grid=param_grid,\n",
    "        cv=cv,\n",
    "        scoring='neg_root_mean_squared_error',\n",
    "        n_jobs=-1\n",
    "    )\n",
    "    grid_search.fit(X_train, y_train)\n",
    "\n",
    "    return evaluar_modelo(grid_search.best_estimator_, X_train, X_test, y_train, y_test)"
   ]
  },
  {
   "cell_type": "code",
   "execution_count": 89,
   "id": "66f79a10-47b5-4731-97fa-2a288957d703",
   "metadata": {},
   "outputs": [],
   "source": [
    "# Llamada de ejemplo\n",
    "rmse_lr, r2_lr, modelo_lr = modelo_lineal(X_train_scaled, X_test_scaled, y_train, y_test)\n",
    "rmse_ridge, r2_ridge, modelo_ridge = modelo_ridge(X_train_scaled, X_test_scaled, y_train, y_test)\n",
    "rmse_lasso, r2_lasso, modelo_lasso = modelo_lasso(X_train_scaled, X_test_scaled, y_train, y_test)"
   ]
  },
  {
   "cell_type": "code",
   "execution_count": 90,
   "id": "6e712a0f-3307-47b5-bc84-8961673efb76",
   "metadata": {},
   "outputs": [
    {
     "name": "stdout",
     "output_type": "stream",
     "text": [
      "Resultados de los Modelos:\n",
      "Linear Regression     -> RMSE: 0.60, R²: 0.82\n",
      "Ridge Regression      -> RMSE: 0.60, R²: 0.82\n",
      "Lasso Regression      -> RMSE: 0.64, R²: 0.79\n"
     ]
    }
   ],
   "source": [
    "print(\"Resultados de los Modelos:\")\n",
    "print(f\"Linear Regression     -> RMSE: {rmse_lr:.2f}, R²: {r2_lr:.2f}\")\n",
    "print(f\"Ridge Regression      -> RMSE: {rmse_ridge:.2f}, R²: {r2_ridge:.2f}\")\n",
    "print(f\"Lasso Regression      -> RMSE: {rmse_lasso:.2f}, R²: {r2_lasso:.2f}\")"
   ]
  },
  {
   "cell_type": "code",
   "execution_count": 47,
   "id": "0687389d-1ce6-43b8-83f2-de31823d1b5d",
   "metadata": {},
   "outputs": [],
   "source": [
    "rmse_gb, r2_gb, modelo_gb = modelo_gradient_boosting(X_train, X_test, y_train, y_test)"
   ]
  },
  {
   "cell_type": "code",
   "execution_count": 48,
   "id": "9963cd71-0bd2-4ce5-81b0-259d351f2e90",
   "metadata": {},
   "outputs": [
    {
     "name": "stdout",
     "output_type": "stream",
     "text": [
      "Gradient Boosting       -> RMSE: 0.33, R²: 0.94\n"
     ]
    }
   ],
   "source": [
    "print(f\"Gradient Boosting       -> RMSE: {rmse_gb:.2f}, R²: {r2_gb:.2f}\")"
   ]
  },
  {
   "cell_type": "code",
   "execution_count": 51,
   "id": "d05bc999-17ed-43a5-918c-227e5bbe2934",
   "metadata": {},
   "outputs": [],
   "source": [
    "rmse_rf, r2_rf, modelo_rf = modelo_random_forest(X_train, X_test, y_train, y_test)"
   ]
  },
  {
   "cell_type": "code",
   "execution_count": 54,
   "id": "cb5e05c8-b8f9-4589-9450-9e6b17a4e039",
   "metadata": {},
   "outputs": [
    {
     "name": "stdout",
     "output_type": "stream",
     "text": [
      "Random Forest         -> RMSE: 0.34, R²: 0.94\n"
     ]
    }
   ],
   "source": [
    "print(f\"Random Forest         -> RMSE: {rmse_rf:.2f}, R²: {r2_rf:.2f}\")"
   ]
  },
  {
   "cell_type": "code",
   "execution_count": 57,
   "id": "4c5982ad-d4f6-4d7e-869a-9f2bf5f08e53",
   "metadata": {},
   "outputs": [],
   "source": [
    "param_dist_gb = {\n",
    "    'n_estimators': [50, 100, 200, 300],\n",
    "    'max_depth': [3, 5, 7, 10],\n",
    "    'learning_rate': [0.01, 0.05, 0.1, 0.2],\n",
    "    'subsample': [0.6, 0.8, 1.0]\n",
    "}\n",
    "\n",
    "rmse_gb, r2_gb, modelo_gb = modelo_gradient_boosting_hibrido(X_train, X_test, y_train, y_test, param_dist_gb)"
   ]
  },
  {
   "cell_type": "code",
   "execution_count": 59,
   "id": "73812398-371c-4084-9166-9359e8283791",
   "metadata": {},
   "outputs": [
    {
     "name": "stdout",
     "output_type": "stream",
     "text": [
      "Gradient Boosting (Híbrido) -> RMSE: 0.32, R²: 0.95\n",
      "Mejores hiperparámetros Gradient Boosting: {'alpha': 0.9, 'ccp_alpha': 0.0, 'criterion': 'friedman_mse', 'init': None, 'learning_rate': 0.2, 'loss': 'squared_error', 'max_depth': 4, 'max_features': None, 'max_leaf_nodes': None, 'min_impurity_decrease': 0.0, 'min_samples_leaf': 1, 'min_samples_split': 2, 'min_weight_fraction_leaf': 0.0, 'n_estimators': 350, 'n_iter_no_change': None, 'random_state': None, 'subsample': 0.6, 'tol': 0.0001, 'validation_fraction': 0.1, 'verbose': 0, 'warm_start': False}\n"
     ]
    }
   ],
   "source": [
    "print(f\"Gradient Boosting (Híbrido) -> RMSE: {rmse_gb:.2f}, R²: {r2_gb:.2f}\")\n",
    "print(\"Mejores hiperparámetros Gradient Boosting:\", modelo_gb.get_params())"
   ]
  },
  {
   "cell_type": "markdown",
   "id": "f6733e52-0c1b-4cd3-b491-6b71daa29f2e",
   "metadata": {},
   "source": [
    "Quizas un random forest hibrido"
   ]
  },
  {
   "cell_type": "markdown",
   "id": "35ab21b2-ad4f-4c26-b8e2-fe66e07c1eef",
   "metadata": {},
   "source": [
    "Vamos a hacer que X no tenga escalamiento ya que sus variables estan todas normalizadas de 0 a 1"
   ]
  },
  {
   "cell_type": "code",
   "execution_count": 97,
   "id": "86feb8fb-3b88-4240-8050-9757ec580175",
   "metadata": {},
   "outputs": [],
   "source": [
    "rmse_lr, r2_lr, modelo_lr = modelo_lineal(X_train, X_test, y_train, y_test)\n",
    "rmse_ridge, r2_ridge, modelo_ridge = modelo_ridge(X_train, X_test, y_train, y_test)\n",
    "rmse_lasso, r2_lasso, modelo_lasso = modelo_lasso(X_train, X_test, y_train, y_test)"
   ]
  },
  {
   "cell_type": "code",
   "execution_count": 98,
   "id": "a41e4980-694c-4134-b52e-8f3c51384b1e",
   "metadata": {},
   "outputs": [
    {
     "name": "stdout",
     "output_type": "stream",
     "text": [
      "Resultados de los Modelos:\n",
      "Linear Regression     -> RMSE: 0.60, R²: 0.82\n",
      "Ridge Regression      -> RMSE: 0.60, R²: 0.82\n",
      "Lasso Regression      -> RMSE: 0.64, R²: 0.79\n"
     ]
    }
   ],
   "source": [
    "print(\"Resultados de los Modelos:\")\n",
    "print(f\"Linear Regression     -> RMSE: {rmse_lr:.2f}, R²: {r2_lr:.2f}\")\n",
    "print(f\"Ridge Regression      -> RMSE: {rmse_ridge:.2f}, R²: {r2_ridge:.2f}\")\n",
    "print(f\"Lasso Regression      -> RMSE: {rmse_lasso:.2f}, R²: {r2_lasso:.2f}\")"
   ]
  },
  {
   "cell_type": "code",
   "execution_count": null,
   "id": "ff478db9-1877-41f0-ae39-64a5a38dcc12",
   "metadata": {},
   "outputs": [],
   "source": []
  }
 ],
 "metadata": {
  "kernelspec": {
   "display_name": "Python 3 (ipykernel)",
   "language": "python",
   "name": "python3"
  },
  "language_info": {
   "codemirror_mode": {
    "name": "ipython",
    "version": 3
   },
   "file_extension": ".py",
   "mimetype": "text/x-python",
   "name": "python",
   "nbconvert_exporter": "python",
   "pygments_lexer": "ipython3",
   "version": "3.13.3"
  }
 },
 "nbformat": 4,
 "nbformat_minor": 5
}
