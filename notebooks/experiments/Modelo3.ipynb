{
 "cells": [
  {
   "cell_type": "markdown",
   "id": "d9613ff7-f8c8-4d14-a77f-98340052e046",
   "metadata": {},
   "source": [
    "## Modelo 3"
   ]
  },
  {
   "cell_type": "code",
   "execution_count": 21,
   "id": "3bdc9a75-3cd2-4d11-9423-2af1cccb6b68",
   "metadata": {},
   "outputs": [],
   "source": [
    "import pandas as pd\n",
    "import numpy as np\n",
    "import matplotlib.pyplot as plt\n",
    "import seaborn as sns\n",
    "from sklearn import preprocessing\n",
    "from sklearn.model_selection import train_test_split\n",
    "from sklearn.model_selection import GridSearchCV, RandomizedSearchCV\n",
    "from sklearn.preprocessing import StandardScaler\n",
    "from sklearn.linear_model import LinearRegression, Ridge, Lasso\n",
    "from sklearn.ensemble import RandomForestRegressor, HistGradientBoostingRegressor\n",
    "from sklearn.ensemble import GradientBoostingRegressor\n",
    "from sklearn.compose import ColumnTransformer\n",
    "from sklearn.metrics import mean_squared_error, r2_score"
   ]
  },
  {
   "cell_type": "code",
   "execution_count": 22,
   "id": "430a4146-8083-4267-83c1-3f6582e14c89",
   "metadata": {},
   "outputs": [
    {
     "data": {
      "text/html": [
       "<div>\n",
       "<style scoped>\n",
       "    .dataframe tbody tr th:only-of-type {\n",
       "        vertical-align: middle;\n",
       "    }\n",
       "\n",
       "    .dataframe tbody tr th {\n",
       "        vertical-align: top;\n",
       "    }\n",
       "\n",
       "    .dataframe thead th {\n",
       "        text-align: right;\n",
       "    }\n",
       "</style>\n",
       "<table border=\"1\" class=\"dataframe\">\n",
       "  <thead>\n",
       "    <tr style=\"text-align: right;\">\n",
       "      <th></th>\n",
       "      <th>temperatura</th>\n",
       "      <th>sensacion_termica</th>\n",
       "      <th>humedad</th>\n",
       "      <th>velocidad_viento</th>\n",
       "      <th>total_alquileres</th>\n",
       "      <th>temporada_1</th>\n",
       "      <th>temporada_2</th>\n",
       "      <th>temporada_3</th>\n",
       "      <th>temporada_4</th>\n",
       "      <th>anio_0</th>\n",
       "      <th>...</th>\n",
       "      <th>dia_semana_3.0</th>\n",
       "      <th>dia_semana_4.0</th>\n",
       "      <th>dia_semana_5.0</th>\n",
       "      <th>dia_semana_6.0</th>\n",
       "      <th>dia_trabajo_0</th>\n",
       "      <th>dia_trabajo_1</th>\n",
       "      <th>clima_1</th>\n",
       "      <th>clima_2</th>\n",
       "      <th>clima_3</th>\n",
       "      <th>clima_4</th>\n",
       "    </tr>\n",
       "  </thead>\n",
       "  <tbody>\n",
       "    <tr>\n",
       "      <th>0</th>\n",
       "      <td>0.24</td>\n",
       "      <td>0.2879</td>\n",
       "      <td>0.81</td>\n",
       "      <td>0.0</td>\n",
       "      <td>16.0</td>\n",
       "      <td>1.0</td>\n",
       "      <td>0.0</td>\n",
       "      <td>0.0</td>\n",
       "      <td>0.0</td>\n",
       "      <td>1.0</td>\n",
       "      <td>...</td>\n",
       "      <td>0.0</td>\n",
       "      <td>0.0</td>\n",
       "      <td>0.0</td>\n",
       "      <td>1.0</td>\n",
       "      <td>1.0</td>\n",
       "      <td>0.0</td>\n",
       "      <td>1.0</td>\n",
       "      <td>0.0</td>\n",
       "      <td>0.0</td>\n",
       "      <td>0.0</td>\n",
       "    </tr>\n",
       "    <tr>\n",
       "      <th>1</th>\n",
       "      <td>0.22</td>\n",
       "      <td>0.2727</td>\n",
       "      <td>0.80</td>\n",
       "      <td>0.0</td>\n",
       "      <td>40.0</td>\n",
       "      <td>1.0</td>\n",
       "      <td>0.0</td>\n",
       "      <td>0.0</td>\n",
       "      <td>0.0</td>\n",
       "      <td>1.0</td>\n",
       "      <td>...</td>\n",
       "      <td>0.0</td>\n",
       "      <td>0.0</td>\n",
       "      <td>0.0</td>\n",
       "      <td>1.0</td>\n",
       "      <td>1.0</td>\n",
       "      <td>0.0</td>\n",
       "      <td>1.0</td>\n",
       "      <td>0.0</td>\n",
       "      <td>0.0</td>\n",
       "      <td>0.0</td>\n",
       "    </tr>\n",
       "    <tr>\n",
       "      <th>2</th>\n",
       "      <td>0.22</td>\n",
       "      <td>0.2727</td>\n",
       "      <td>0.80</td>\n",
       "      <td>0.0</td>\n",
       "      <td>32.0</td>\n",
       "      <td>1.0</td>\n",
       "      <td>0.0</td>\n",
       "      <td>0.0</td>\n",
       "      <td>0.0</td>\n",
       "      <td>1.0</td>\n",
       "      <td>...</td>\n",
       "      <td>0.0</td>\n",
       "      <td>0.0</td>\n",
       "      <td>0.0</td>\n",
       "      <td>1.0</td>\n",
       "      <td>1.0</td>\n",
       "      <td>0.0</td>\n",
       "      <td>1.0</td>\n",
       "      <td>0.0</td>\n",
       "      <td>0.0</td>\n",
       "      <td>0.0</td>\n",
       "    </tr>\n",
       "    <tr>\n",
       "      <th>3</th>\n",
       "      <td>0.24</td>\n",
       "      <td>0.2879</td>\n",
       "      <td>0.75</td>\n",
       "      <td>0.0</td>\n",
       "      <td>13.0</td>\n",
       "      <td>1.0</td>\n",
       "      <td>0.0</td>\n",
       "      <td>0.0</td>\n",
       "      <td>0.0</td>\n",
       "      <td>1.0</td>\n",
       "      <td>...</td>\n",
       "      <td>0.0</td>\n",
       "      <td>0.0</td>\n",
       "      <td>0.0</td>\n",
       "      <td>1.0</td>\n",
       "      <td>1.0</td>\n",
       "      <td>0.0</td>\n",
       "      <td>1.0</td>\n",
       "      <td>0.0</td>\n",
       "      <td>0.0</td>\n",
       "      <td>0.0</td>\n",
       "    </tr>\n",
       "    <tr>\n",
       "      <th>4</th>\n",
       "      <td>0.24</td>\n",
       "      <td>0.2879</td>\n",
       "      <td>0.75</td>\n",
       "      <td>0.0</td>\n",
       "      <td>1.0</td>\n",
       "      <td>1.0</td>\n",
       "      <td>0.0</td>\n",
       "      <td>0.0</td>\n",
       "      <td>0.0</td>\n",
       "      <td>1.0</td>\n",
       "      <td>...</td>\n",
       "      <td>0.0</td>\n",
       "      <td>0.0</td>\n",
       "      <td>0.0</td>\n",
       "      <td>1.0</td>\n",
       "      <td>1.0</td>\n",
       "      <td>0.0</td>\n",
       "      <td>1.0</td>\n",
       "      <td>0.0</td>\n",
       "      <td>0.0</td>\n",
       "      <td>0.0</td>\n",
       "    </tr>\n",
       "  </tbody>\n",
       "</table>\n",
       "<p>5 rows × 62 columns</p>\n",
       "</div>"
      ],
      "text/plain": [
       "   temperatura  sensacion_termica  humedad  velocidad_viento  \\\n",
       "0         0.24             0.2879     0.81               0.0   \n",
       "1         0.22             0.2727     0.80               0.0   \n",
       "2         0.22             0.2727     0.80               0.0   \n",
       "3         0.24             0.2879     0.75               0.0   \n",
       "4         0.24             0.2879     0.75               0.0   \n",
       "\n",
       "   total_alquileres  temporada_1  temporada_2  temporada_3  temporada_4  \\\n",
       "0              16.0          1.0          0.0          0.0          0.0   \n",
       "1              40.0          1.0          0.0          0.0          0.0   \n",
       "2              32.0          1.0          0.0          0.0          0.0   \n",
       "3              13.0          1.0          0.0          0.0          0.0   \n",
       "4               1.0          1.0          0.0          0.0          0.0   \n",
       "\n",
       "   anio_0  ...  dia_semana_3.0  dia_semana_4.0  dia_semana_5.0  \\\n",
       "0     1.0  ...             0.0             0.0             0.0   \n",
       "1     1.0  ...             0.0             0.0             0.0   \n",
       "2     1.0  ...             0.0             0.0             0.0   \n",
       "3     1.0  ...             0.0             0.0             0.0   \n",
       "4     1.0  ...             0.0             0.0             0.0   \n",
       "\n",
       "   dia_semana_6.0  dia_trabajo_0  dia_trabajo_1  clima_1  clima_2  clima_3  \\\n",
       "0             1.0            1.0            0.0      1.0      0.0      0.0   \n",
       "1             1.0            1.0            0.0      1.0      0.0      0.0   \n",
       "2             1.0            1.0            0.0      1.0      0.0      0.0   \n",
       "3             1.0            1.0            0.0      1.0      0.0      0.0   \n",
       "4             1.0            1.0            0.0      1.0      0.0      0.0   \n",
       "\n",
       "   clima_4  \n",
       "0      0.0  \n",
       "1      0.0  \n",
       "2      0.0  \n",
       "3      0.0  \n",
       "4      0.0  \n",
       "\n",
       "[5 rows x 62 columns]"
      ]
     },
     "execution_count": 22,
     "metadata": {},
     "output_type": "execute_result"
    }
   ],
   "source": [
    "df = pd.read_csv('dataset6.csv')\n",
    "df.head()\n"
   ]
  },
  {
   "cell_type": "code",
   "execution_count": 23,
   "id": "47624716-f9b2-4b1e-943b-e478f7744b00",
   "metadata": {},
   "outputs": [],
   "source": [
    "# Separar características (X) y etiqueta (y)\n",
    "X = df.drop(columns=[\"total_alquileres\"])\n",
    "y = df[\"total_alquileres\"]"
   ]
  },
  {
   "cell_type": "code",
   "execution_count": 24,
   "id": "91eb3234-622c-44ff-88ae-33cd21184907",
   "metadata": {},
   "outputs": [],
   "source": [
    "y_log = np.log1p(y)"
   ]
  },
  {
   "cell_type": "code",
   "execution_count": 25,
   "id": "17f0a53f-33e0-4059-b67f-ac2f52f13057",
   "metadata": {},
   "outputs": [],
   "source": [
    "# División en entrenamiento y prueba\n",
    "X_train, X_test, y_train, y_test = train_test_split(X, y_log, test_size=0.2, random_state=42)"
   ]
  },
  {
   "cell_type": "code",
   "execution_count": 26,
   "id": "a418c22a-96d5-473f-878e-e6192330661f",
   "metadata": {},
   "outputs": [],
   "source": [
    "numeric_cols = ['temperatura', 'sensacion_termica', 'humedad', 'velocidad_viento']\n",
    "ohe_columns = [col for col in X.columns if col not in numeric_cols]"
   ]
  },
  {
   "cell_type": "code",
   "execution_count": 27,
   "id": "f6bd6513-55d1-4929-a58b-9223a53c3d17",
   "metadata": {},
   "outputs": [],
   "source": [
    "# Suponiendo que 'numeric_cols' son las columnas numéricas originales\n",
    "preprocessor = ColumnTransformer(\n",
    "    transformers=[\n",
    "        ('num', StandardScaler(), numeric_cols),  # Escalar numéricas\n",
    "        ('cat', 'passthrough', ohe_columns)       # No tocar las dummies\n",
    "    ])"
   ]
  },
  {
   "cell_type": "code",
   "execution_count": 28,
   "id": "03378fbe-ac4d-4ae0-82e1-340e34e32305",
   "metadata": {},
   "outputs": [],
   "source": [
    "X_train_scaled = preprocessor.fit_transform(X_train)\n",
    "X_test_scaled = preprocessor.fit_transform(X_test)"
   ]
  },
  {
   "cell_type": "code",
   "execution_count": 29,
   "id": "91877b26-8bd7-455c-8361-b9021006eb6c",
   "metadata": {},
   "outputs": [
    {
     "data": {
      "text/plain": [
       "'\\nscaler = StandardScaler()\\nX_train_scaled = scaler.fit_transform(X_train)\\nX_test_scaled = scaler.transform(X_test)'"
      ]
     },
     "execution_count": 29,
     "metadata": {},
     "output_type": "execute_result"
    }
   ],
   "source": [
    "# Escalar características para modelos sensibles a la escala\n",
    "'''\n",
    "scaler = StandardScaler()\n",
    "X_train_scaled = scaler.fit_transform(X_train)\n",
    "X_test_scaled = scaler.transform(X_test)\\\n",
    "'''"
   ]
  },
  {
   "cell_type": "code",
   "execution_count": 30,
   "id": "cbac5974-0fc3-47c4-a16a-82b2d4988638",
   "metadata": {},
   "outputs": [],
   "source": [
    "def evaluar_modelo(modelo, X_train, X_test, y_train, y_test):\n",
    "    modelo.fit(X_train, y_train)\n",
    "\n",
    "    # Predicciones en entrenamiento\n",
    "    pred_train = modelo.predict(X_train)\n",
    "    rmse_train = np.sqrt(mean_squared_error(y_train, pred_train))\n",
    "    r2_train = r2_score(y_train, pred_train)\n",
    "\n",
    "    # Predicciones en validación\n",
    "    pred_test = modelo.predict(X_test)\n",
    "    rmse_test = np.sqrt(mean_squared_error(y_test, pred_test))\n",
    "    r2_test = r2_score(y_test, pred_test)\n",
    "\n",
    "    return rmse_train, r2_train, rmse_test, r2_test, modelo"
   ]
  },
  {
   "cell_type": "code",
   "execution_count": 31,
   "id": "79b59231-d2d3-4904-a5f4-f9a00f5458ab",
   "metadata": {},
   "outputs": [],
   "source": [
    "def modelo_lineal(X_train, X_test, y_train, y_test):\n",
    "    lr = LinearRegression()\n",
    "    return evaluar_modelo(lr, X_train, X_test, y_train, y_test)"
   ]
  },
  {
   "cell_type": "code",
   "execution_count": 32,
   "id": "3efdb1d2-bec2-4dc5-9004-a756428590cb",
   "metadata": {},
   "outputs": [],
   "source": [
    "def modelo_lasso(X_train, X_test, y_train, y_test, alphas=[0.01, 0.1, 1.0]):\n",
    "    grid = GridSearchCV(Lasso(max_iter=10000), {'alpha': alphas}, cv=3, scoring='neg_root_mean_squared_error')\n",
    "    grid.fit(X_train, y_train)\n",
    "    return evaluar_modelo(grid.best_estimator_, X_train, X_test, y_train, y_test)"
   ]
  },
  {
   "cell_type": "code",
   "execution_count": 33,
   "id": "a82d4a10-6773-4861-8dd8-be1df798046d",
   "metadata": {},
   "outputs": [],
   "source": [
    "def modelo_elasticnet(X_train, X_test, y_train, y_test, params=None):\n",
    "    if params is None:\n",
    "        params = {'alpha': [0.01, 0.1, 1.0], 'l1_ratio': [0.1, 0.5, 0.9]}\n",
    "    grid = GridSearchCV(ElasticNet(max_iter=10000), params, cv=3, scoring='neg_root_mean_squared_error')\n",
    "    grid.fit(X_train, y_train)\n",
    "    return evaluar_modelo(grid.best_estimator_, X_train, X_test, y_train, y_test)"
   ]
  },
  {
   "cell_type": "code",
   "execution_count": 34,
   "id": "bff0e5be-99af-4787-aa22-01f1c19483e3",
   "metadata": {},
   "outputs": [],
   "source": [
    "def modelo_ridge(X_train, X_test, y_train, y_test, alphas=[0.1, 1.0, 10]):\n",
    "    grid = GridSearchCV(Ridge(), {'alpha': alphas}, cv=3, scoring='neg_root_mean_squared_error')\n",
    "    grid.fit(X_train, y_train)\n",
    "    best_model = grid.best_estimator_\n",
    "    return evaluar_modelo(best_model, X_train, X_test, y_train, y_test)"
   ]
  },
  {
   "cell_type": "code",
   "execution_count": 35,
   "id": "4d82b6d7-2860-41d4-b494-09e7b786755a",
   "metadata": {},
   "outputs": [],
   "source": [
    "def modelo_gradient_boosting(X_train, X_test, y_train, y_test, n_iter=10):\n",
    "    param_dist = {\n",
    "        'n_estimators': [100, 200],\n",
    "        'learning_rate': [0.01, 0.1],\n",
    "        'max_depth': [3, 5, 10]\n",
    "    }\n",
    "    gb = RandomizedSearchCV(GradientBoostingRegressor(), param_dist, n_iter=n_iter, cv=3,\n",
    "                            scoring='neg_root_mean_squared_error', n_jobs=-1, random_state=42)\n",
    "    gb.fit(X_train, y_train)\n",
    "    return evaluar_modelo(gb.best_estimator_, X_train, X_test, y_train, y_test)"
   ]
  },
  {
   "cell_type": "code",
   "execution_count": 36,
   "id": "a2afa165-eb07-4977-b038-6851cd36aae3",
   "metadata": {},
   "outputs": [],
   "source": [
    "def modelo_random_forest(X_train, X_test, y_train, y_test, n_iter=10):\n",
    "    param_dist = {\n",
    "        'n_estimators': [100, 200],\n",
    "        'max_depth': [10, 20, None],\n",
    "        'min_samples_split': [2, 5],\n",
    "        'min_samples_leaf': [1, 2]\n",
    "    }\n",
    "    rf = RandomizedSearchCV(RandomForestRegressor(random_state=42), param_dist, n_iter=n_iter, cv=3,\n",
    "                            scoring='neg_root_mean_squared_error', n_jobs=-1, random_state=42)\n",
    "    rf.fit(X_train, y_train)\n",
    "    return evaluar_modelo(rf.best_estimator_, X_train, X_test, y_train, y_test)"
   ]
  },
  {
   "cell_type": "code",
   "execution_count": 37,
   "id": "3b55e2a2-f5a0-4f8c-912b-bd22bbb8ad82",
   "metadata": {},
   "outputs": [],
   "source": [
    "def modelo_gradient_boosting_hibrido(X_train, X_test, y_train, y_test,\n",
    "                                     param_dist, n_iter=20, cv=3):\n",
    "    # Paso 1: RandomizedSearchCV (exploración)\n",
    "    random_search = RandomizedSearchCV(\n",
    "        GradientBoostingRegressor(),\n",
    "        param_distributions=param_dist,\n",
    "        n_iter=n_iter,\n",
    "        cv=cv,\n",
    "        scoring='neg_root_mean_squared_error',\n",
    "        n_jobs=-1,\n",
    "        random_state=42\n",
    "    )\n",
    "    random_search.fit(X_train, y_train)\n",
    "\n",
    "    best_params = random_search.best_params_\n",
    "\n",
    "    # Paso 2: GridSearchCV (explotación)\n",
    "    param_grid = {\n",
    "        'n_estimators': list(set([\n",
    "            max(10, best_params['n_estimators'] - 50),  # evitando valores negativos\n",
    "            best_params['n_estimators'],\n",
    "            best_params['n_estimators'] + 50\n",
    "        ])),\n",
    "        'max_depth': list(set([\n",
    "            max(1, best_params['max_depth'] - 1),\n",
    "            best_params['max_depth'],\n",
    "            best_params['max_depth'] + 1\n",
    "        ])),\n",
    "        'learning_rate': sorted(list(set([\n",
    "            round(best_params['learning_rate'] * 0.5, 3),\n",
    "            best_params['learning_rate'],\n",
    "            round(best_params['learning_rate'] * 1.5, 3)\n",
    "        ])))\n",
    "    }\n",
    "\n",
    "    grid_search = GridSearchCV(\n",
    "        GradientBoostingRegressor(subsample=best_params['subsample']),\n",
    "        param_grid=param_grid,\n",
    "        cv=cv,\n",
    "        scoring='neg_root_mean_squared_error',\n",
    "        n_jobs=-1\n",
    "    )\n",
    "    grid_search.fit(X_train, y_train)\n",
    "\n",
    "    return evaluar_modelo(grid_search.best_estimator_, X_train, X_test, y_train, y_test)"
   ]
  },
  {
   "cell_type": "code",
   "execution_count": 38,
   "id": "21516755-2a35-40c6-9250-b274d7b2611f",
   "metadata": {},
   "outputs": [],
   "source": [
    "def modelo_random_forest_hibrido(X_train, X_test, y_train, y_test,\n",
    "                                 param_dist, n_iter=20, cv=3):\n",
    "    # Paso 1: RandomizedSearchCV\n",
    "    random_search = RandomizedSearchCV(\n",
    "        RandomForestRegressor(random_state=42),\n",
    "        param_distributions=param_dist,\n",
    "        n_iter=n_iter,\n",
    "        cv=cv,\n",
    "        scoring='neg_root_mean_squared_error',\n",
    "        n_jobs=-1,\n",
    "        random_state=42\n",
    "    )\n",
    "    random_search.fit(X_train, y_train)\n",
    "    best_params = random_search.best_params_\n",
    "\n",
    "    # Paso 2: GridSearchCV\n",
    "    param_grid = {\n",
    "        'n_estimators': sorted(set([\n",
    "            max(10, best_params['n_estimators'] - 50),\n",
    "            best_params['n_estimators'],\n",
    "            best_params['n_estimators'] + 50\n",
    "        ])),\n",
    "        'max_depth': [best_params['max_depth']] if best_params['max_depth'] is None else sorted(set([\n",
    "            max(1, best_params['max_depth'] - 5),\n",
    "            best_params['max_depth'],\n",
    "            best_params['max_depth'] + 5\n",
    "        ])),\n",
    "        'min_samples_split': sorted(set([\n",
    "            max(2, best_params['min_samples_split'] - 1),\n",
    "            best_params['min_samples_split'],\n",
    "            best_params['min_samples_split'] + 1\n",
    "        ])),\n",
    "        'min_samples_leaf': sorted(set([\n",
    "            max(1, best_params['min_samples_leaf'] - 1),\n",
    "            best_params['min_samples_leaf'],\n",
    "            best_params['min_samples_leaf'] + 1\n",
    "        ]))\n",
    "    }\n",
    "\n",
    "    grid_search = GridSearchCV(\n",
    "        RandomForestRegressor(random_state=42),\n",
    "        param_grid=param_grid,\n",
    "        cv=cv,\n",
    "        scoring='neg_root_mean_squared_error',\n",
    "        n_jobs=-1\n",
    "    )\n",
    "    grid_search.fit(X_train, y_train)\n",
    "\n",
    "    # Evaluación con tu función\n",
    "    return evaluar_modelo(grid_search.best_estimator_, X_train, X_test, y_train, y_test)\n"
   ]
  },
  {
   "cell_type": "code",
   "execution_count": 39,
   "id": "66f79a10-47b5-4731-97fa-2a288957d703",
   "metadata": {},
   "outputs": [
    {
     "name": "stdout",
     "output_type": "stream",
     "text": [
      "Lineal (Train)  -> RMSE: 0.59, R²: 0.83\n",
      "Lineal (Test)   -> RMSE: 0.60, R²: 0.82\n",
      "Ridge (Train)   -> RMSE: 0.59, R²: 0.83\n",
      "Ridge (Test)    -> RMSE: 0.60, R²: 0.82\n",
      "Lasso (Train)   -> RMSE: 0.64, R²: 0.80\n",
      "Lasso (Test)    -> RMSE: 0.64, R²: 0.79\n"
     ]
    }
   ],
   "source": [
    "# Llamada de ejemplo con métricas de entrenamiento y validación\n",
    "rmse_lr_train, r2_lr_train, rmse_lr_test, r2_lr_test, modelo_lr = modelo_lineal(X_train_scaled, X_test_scaled, y_train, y_test)\n",
    "rmse_ridge_train, r2_ridge_train, rmse_ridge_test, r2_ridge_test, modelo_ridge = modelo_ridge(X_train_scaled, X_test_scaled, y_train, y_test)\n",
    "rmse_lasso_train, r2_lasso_train, rmse_lasso_test, r2_lasso_test, modelo_lasso = modelo_lasso(X_train_scaled, X_test_scaled, y_train, y_test)\n",
    "\n",
    "# Impresión de resultados\n",
    "print(f\"Lineal (Train)  -> RMSE: {rmse_lr_train:.2f}, R²: {r2_lr_train:.2f}\")\n",
    "print(f\"Lineal (Test)   -> RMSE: {rmse_lr_test:.2f}, R²: {r2_lr_test:.2f}\")\n",
    "\n",
    "print(f\"Ridge (Train)   -> RMSE: {rmse_ridge_train:.2f}, R²: {r2_ridge_train:.2f}\")\n",
    "print(f\"Ridge (Test)    -> RMSE: {rmse_ridge_test:.2f}, R²: {r2_ridge_test:.2f}\")\n",
    "\n",
    "print(f\"Lasso (Train)   -> RMSE: {rmse_lasso_train:.2f}, R²: {r2_lasso_train:.2f}\")\n",
    "print(f\"Lasso (Test)    -> RMSE: {rmse_lasso_test:.2f}, R²: {r2_lasso_test:.2f}\")"
   ]
  },
  {
   "cell_type": "code",
   "execution_count": 40,
   "id": "0687389d-1ce6-43b8-83f2-de31823d1b5d",
   "metadata": {},
   "outputs": [],
   "source": [
    "rmse_gb_train, r2_gb_train, rmse_gb_test, r2_gb_test, modelo_gb = modelo_gradient_boosting(X_train, X_test, y_train, y_test)"
   ]
  },
  {
   "cell_type": "code",
   "execution_count": 41,
   "id": "9963cd71-0bd2-4ce5-81b0-259d351f2e90",
   "metadata": {},
   "outputs": [
    {
     "name": "stdout",
     "output_type": "stream",
     "text": [
      "Gradient Boosting (Train) -> RMSE: 0.08, R²: 1.00\n",
      "Gradient Boosting (Test)  -> RMSE: 0.33, R²: 0.94\n"
     ]
    }
   ],
   "source": [
    "print(f\"Gradient Boosting (Train) -> RMSE: {rmse_gb_train:.2f}, R²: {r2_gb_train:.2f}\")\n",
    "print(f\"Gradient Boosting (Test)  -> RMSE: {rmse_gb_test:.2f}, R²: {r2_gb_test:.2f}\")"
   ]
  },
  {
   "cell_type": "code",
   "execution_count": 42,
   "id": "d05bc999-17ed-43a5-918c-227e5bbe2934",
   "metadata": {},
   "outputs": [],
   "source": [
    "rmse_rf_train, r2_rf_train, rmse_rf_test, r2_rf_test, modelo_rf = modelo_random_forest(X_train, X_test, y_train, y_test)"
   ]
  },
  {
   "cell_type": "code",
   "execution_count": 43,
   "id": "cb5e05c8-b8f9-4589-9450-9e6b17a4e039",
   "metadata": {},
   "outputs": [
    {
     "name": "stdout",
     "output_type": "stream",
     "text": [
      "Random Forest (Train) -> RMSE: 0.12, R²: 0.99\n",
      "Random Forest (Test)  -> RMSE: 0.34, R²: 0.94\n"
     ]
    }
   ],
   "source": [
    "print(f\"Random Forest (Train) -> RMSE: {rmse_rf_train:.2f}, R²: {r2_rf_train:.2f}\")\n",
    "print(f\"Random Forest (Test)  -> RMSE: {rmse_rf_test:.2f}, R²: {r2_rf_test:.2f}\")"
   ]
  },
  {
   "cell_type": "code",
   "execution_count": 44,
   "id": "4c5982ad-d4f6-4d7e-869a-9f2bf5f08e53",
   "metadata": {},
   "outputs": [],
   "source": [
    "param_dist_gb = {\n",
    "    'n_estimators': [50, 100, 200, 300],\n",
    "    'max_depth': [3, 5, 7, 10],\n",
    "    'learning_rate': [0.01, 0.05, 0.1, 0.2],\n",
    "    'subsample': [0.6, 0.8, 1.0]\n",
    "}\n",
    "\n",
    "rmse_gb_train, r2_gb_train, rmse_gb_test, r2_gb_test, modelo_gb = modelo_gradient_boosting_hibrido(X_train, X_test, y_train, y_test, param_dist_gb)"
   ]
  },
  {
   "cell_type": "code",
   "execution_count": 45,
   "id": "73812398-371c-4084-9166-9359e8283791",
   "metadata": {},
   "outputs": [
    {
     "name": "stdout",
     "output_type": "stream",
     "text": [
      "Gradient Boosting (Train)  -> RMSE: 0.24, R²: 0.97\n",
      "Gradient Boosting (Test)   -> RMSE: 0.33, R²: 0.95\n",
      "Mejores hiperparámetros Gradient Boosting: {'alpha': 0.9, 'ccp_alpha': 0.0, 'criterion': 'friedman_mse', 'init': None, 'learning_rate': 0.2, 'loss': 'squared_error', 'max_depth': 4, 'max_features': None, 'max_leaf_nodes': None, 'min_impurity_decrease': 0.0, 'min_samples_leaf': 1, 'min_samples_split': 2, 'min_weight_fraction_leaf': 0.0, 'n_estimators': 300, 'n_iter_no_change': None, 'random_state': None, 'subsample': 0.6, 'tol': 0.0001, 'validation_fraction': 0.1, 'verbose': 0, 'warm_start': False}\n"
     ]
    }
   ],
   "source": [
    "print(f\"Gradient Boosting (Train)  -> RMSE: {rmse_gb_train:.2f}, R²: {r2_gb_train:.2f}\")\n",
    "print(f\"Gradient Boosting (Test)   -> RMSE: {rmse_gb_test:.2f}, R²: {r2_gb_test:.2f}\")\n",
    "print(\"Mejores hiperparámetros Gradient Boosting:\", modelo_gb.get_params())"
   ]
  },
  {
   "cell_type": "markdown",
   "id": "f6733e52-0c1b-4cd3-b491-6b71daa29f2e",
   "metadata": {},
   "source": [
    "Quizas un random forest hibrido"
   ]
  },
  {
   "cell_type": "markdown",
   "id": "35ab21b2-ad4f-4c26-b8e2-fe66e07c1eef",
   "metadata": {},
   "source": [
    "Vamos a hacer que X no tenga escalamiento ya que sus variables estan todas normalizadas de 0 a 1"
   ]
  },
  {
   "cell_type": "code",
   "execution_count": 46,
   "id": "366a6d0e-bc35-4583-b3c1-9ac4a27e228c",
   "metadata": {},
   "outputs": [
    {
     "ename": "KeyboardInterrupt",
     "evalue": "",
     "output_type": "error",
     "traceback": [
      "\u001b[31m---------------------------------------------------------------------------\u001b[39m",
      "\u001b[31mKeyboardInterrupt\u001b[39m                         Traceback (most recent call last)",
      "\u001b[36mCell\u001b[39m\u001b[36m \u001b[39m\u001b[32mIn[46]\u001b[39m\u001b[32m, line 8\u001b[39m\n\u001b[32m      1\u001b[39m param_dist_rf = {\n\u001b[32m      2\u001b[39m     \u001b[33m'\u001b[39m\u001b[33mn_estimators\u001b[39m\u001b[33m'\u001b[39m: [\u001b[32m100\u001b[39m, \u001b[32m150\u001b[39m, \u001b[32m200\u001b[39m, \u001b[32m250\u001b[39m],\n\u001b[32m      3\u001b[39m     \u001b[33m'\u001b[39m\u001b[33mmax_depth\u001b[39m\u001b[33m'\u001b[39m: [\u001b[32m10\u001b[39m, \u001b[32m15\u001b[39m, \u001b[32m20\u001b[39m, \u001b[38;5;28;01mNone\u001b[39;00m],\n\u001b[32m      4\u001b[39m     \u001b[33m'\u001b[39m\u001b[33mmin_samples_split\u001b[39m\u001b[33m'\u001b[39m: [\u001b[32m2\u001b[39m, \u001b[32m5\u001b[39m, \u001b[32m10\u001b[39m],\n\u001b[32m      5\u001b[39m     \u001b[33m'\u001b[39m\u001b[33mmin_samples_leaf\u001b[39m\u001b[33m'\u001b[39m: [\u001b[32m1\u001b[39m, \u001b[32m2\u001b[39m, \u001b[32m4\u001b[39m]\n\u001b[32m      6\u001b[39m }\n\u001b[32m----> \u001b[39m\u001b[32m8\u001b[39m rmse_rf_train, r2_rf_train, rmse_rf_test, r2_rf_test, modelo_rf = \u001b[43mmodelo_random_forest_hibrido\u001b[49m\u001b[43m(\u001b[49m\n\u001b[32m      9\u001b[39m \u001b[43m    \u001b[49m\u001b[43mX_train\u001b[49m\u001b[43m,\u001b[49m\u001b[43m \u001b[49m\u001b[43mX_test\u001b[49m\u001b[43m,\u001b[49m\u001b[43m \u001b[49m\u001b[43my_train\u001b[49m\u001b[43m,\u001b[49m\u001b[43m \u001b[49m\u001b[43my_test\u001b[49m\u001b[43m,\u001b[49m\u001b[43m \u001b[49m\u001b[43mparam_dist_rf\u001b[49m\n\u001b[32m     10\u001b[39m \u001b[43m)\u001b[49m\n\u001b[32m     12\u001b[39m \u001b[38;5;28mprint\u001b[39m(\u001b[33mf\u001b[39m\u001b[33m\"\u001b[39m\u001b[33mRandom Forest Híbrido (Train) -> RMSE: \u001b[39m\u001b[38;5;132;01m{\u001b[39;00mrmse_rf_train\u001b[38;5;132;01m:\u001b[39;00m\u001b[33m.2f\u001b[39m\u001b[38;5;132;01m}\u001b[39;00m\u001b[33m, R²: \u001b[39m\u001b[38;5;132;01m{\u001b[39;00mr2_rf_train\u001b[38;5;132;01m:\u001b[39;00m\u001b[33m.2f\u001b[39m\u001b[38;5;132;01m}\u001b[39;00m\u001b[33m\"\u001b[39m)\n\u001b[32m     13\u001b[39m \u001b[38;5;28mprint\u001b[39m(\u001b[33mf\u001b[39m\u001b[33m\"\u001b[39m\u001b[33mRandom Forest Híbrido (Test)  -> RMSE: \u001b[39m\u001b[38;5;132;01m{\u001b[39;00mrmse_rf_test\u001b[38;5;132;01m:\u001b[39;00m\u001b[33m.2f\u001b[39m\u001b[38;5;132;01m}\u001b[39;00m\u001b[33m, R²: \u001b[39m\u001b[38;5;132;01m{\u001b[39;00mr2_rf_test\u001b[38;5;132;01m:\u001b[39;00m\u001b[33m.2f\u001b[39m\u001b[38;5;132;01m}\u001b[39;00m\u001b[33m\"\u001b[39m)\n",
      "\u001b[36mCell\u001b[39m\u001b[36m \u001b[39m\u001b[32mIn[38]\u001b[39m\u001b[32m, line 47\u001b[39m, in \u001b[36mmodelo_random_forest_hibrido\u001b[39m\u001b[34m(X_train, X_test, y_train, y_test, param_dist, n_iter, cv)\u001b[39m\n\u001b[32m     17\u001b[39m param_grid = {\n\u001b[32m     18\u001b[39m     \u001b[33m'\u001b[39m\u001b[33mn_estimators\u001b[39m\u001b[33m'\u001b[39m: \u001b[38;5;28msorted\u001b[39m(\u001b[38;5;28mset\u001b[39m([\n\u001b[32m     19\u001b[39m         \u001b[38;5;28mmax\u001b[39m(\u001b[32m10\u001b[39m, best_params[\u001b[33m'\u001b[39m\u001b[33mn_estimators\u001b[39m\u001b[33m'\u001b[39m] - \u001b[32m50\u001b[39m),\n\u001b[32m   (...)\u001b[39m\u001b[32m     37\u001b[39m     ]))\n\u001b[32m     38\u001b[39m }\n\u001b[32m     40\u001b[39m grid_search = GridSearchCV(\n\u001b[32m     41\u001b[39m     RandomForestRegressor(random_state=\u001b[32m42\u001b[39m),\n\u001b[32m     42\u001b[39m     param_grid=param_grid,\n\u001b[32m   (...)\u001b[39m\u001b[32m     45\u001b[39m     n_jobs=-\u001b[32m1\u001b[39m\n\u001b[32m     46\u001b[39m )\n\u001b[32m---> \u001b[39m\u001b[32m47\u001b[39m \u001b[43mgrid_search\u001b[49m\u001b[43m.\u001b[49m\u001b[43mfit\u001b[49m\u001b[43m(\u001b[49m\u001b[43mX_train\u001b[49m\u001b[43m,\u001b[49m\u001b[43m \u001b[49m\u001b[43my_train\u001b[49m\u001b[43m)\u001b[49m\n\u001b[32m     49\u001b[39m \u001b[38;5;66;03m# Evaluación con tu función\u001b[39;00m\n\u001b[32m     50\u001b[39m \u001b[38;5;28;01mreturn\u001b[39;00m evaluar_modelo(grid_search.best_estimator_, X_train, X_test, y_train, y_test)\n",
      "\u001b[36mFile \u001b[39m\u001b[32m~\\AppData\\Local\\Programs\\Python\\Python313\\Lib\\site-packages\\sklearn\\base.py:1389\u001b[39m, in \u001b[36m_fit_context.<locals>.decorator.<locals>.wrapper\u001b[39m\u001b[34m(estimator, *args, **kwargs)\u001b[39m\n\u001b[32m   1382\u001b[39m     estimator._validate_params()\n\u001b[32m   1384\u001b[39m \u001b[38;5;28;01mwith\u001b[39;00m config_context(\n\u001b[32m   1385\u001b[39m     skip_parameter_validation=(\n\u001b[32m   1386\u001b[39m         prefer_skip_nested_validation \u001b[38;5;129;01mor\u001b[39;00m global_skip_validation\n\u001b[32m   1387\u001b[39m     )\n\u001b[32m   1388\u001b[39m ):\n\u001b[32m-> \u001b[39m\u001b[32m1389\u001b[39m     \u001b[38;5;28;01mreturn\u001b[39;00m \u001b[43mfit_method\u001b[49m\u001b[43m(\u001b[49m\u001b[43mestimator\u001b[49m\u001b[43m,\u001b[49m\u001b[43m \u001b[49m\u001b[43m*\u001b[49m\u001b[43margs\u001b[49m\u001b[43m,\u001b[49m\u001b[43m \u001b[49m\u001b[43m*\u001b[49m\u001b[43m*\u001b[49m\u001b[43mkwargs\u001b[49m\u001b[43m)\u001b[49m\n",
      "\u001b[36mFile \u001b[39m\u001b[32m~\\AppData\\Local\\Programs\\Python\\Python313\\Lib\\site-packages\\sklearn\\model_selection\\_search.py:1024\u001b[39m, in \u001b[36mBaseSearchCV.fit\u001b[39m\u001b[34m(self, X, y, **params)\u001b[39m\n\u001b[32m   1018\u001b[39m     results = \u001b[38;5;28mself\u001b[39m._format_results(\n\u001b[32m   1019\u001b[39m         all_candidate_params, n_splits, all_out, all_more_results\n\u001b[32m   1020\u001b[39m     )\n\u001b[32m   1022\u001b[39m     \u001b[38;5;28;01mreturn\u001b[39;00m results\n\u001b[32m-> \u001b[39m\u001b[32m1024\u001b[39m \u001b[38;5;28;43mself\u001b[39;49m\u001b[43m.\u001b[49m\u001b[43m_run_search\u001b[49m\u001b[43m(\u001b[49m\u001b[43mevaluate_candidates\u001b[49m\u001b[43m)\u001b[49m\n\u001b[32m   1026\u001b[39m \u001b[38;5;66;03m# multimetric is determined here because in the case of a callable\u001b[39;00m\n\u001b[32m   1027\u001b[39m \u001b[38;5;66;03m# self.scoring the return type is only known after calling\u001b[39;00m\n\u001b[32m   1028\u001b[39m first_test_score = all_out[\u001b[32m0\u001b[39m][\u001b[33m\"\u001b[39m\u001b[33mtest_scores\u001b[39m\u001b[33m\"\u001b[39m]\n",
      "\u001b[36mFile \u001b[39m\u001b[32m~\\AppData\\Local\\Programs\\Python\\Python313\\Lib\\site-packages\\sklearn\\model_selection\\_search.py:1571\u001b[39m, in \u001b[36mGridSearchCV._run_search\u001b[39m\u001b[34m(self, evaluate_candidates)\u001b[39m\n\u001b[32m   1569\u001b[39m \u001b[38;5;28;01mdef\u001b[39;00m\u001b[38;5;250m \u001b[39m\u001b[34m_run_search\u001b[39m(\u001b[38;5;28mself\u001b[39m, evaluate_candidates):\n\u001b[32m   1570\u001b[39m \u001b[38;5;250m    \u001b[39m\u001b[33;03m\"\"\"Search all candidates in param_grid\"\"\"\u001b[39;00m\n\u001b[32m-> \u001b[39m\u001b[32m1571\u001b[39m     \u001b[43mevaluate_candidates\u001b[49m\u001b[43m(\u001b[49m\u001b[43mParameterGrid\u001b[49m\u001b[43m(\u001b[49m\u001b[38;5;28;43mself\u001b[39;49m\u001b[43m.\u001b[49m\u001b[43mparam_grid\u001b[49m\u001b[43m)\u001b[49m\u001b[43m)\u001b[49m\n",
      "\u001b[36mFile \u001b[39m\u001b[32m~\\AppData\\Local\\Programs\\Python\\Python313\\Lib\\site-packages\\sklearn\\model_selection\\_search.py:970\u001b[39m, in \u001b[36mBaseSearchCV.fit.<locals>.evaluate_candidates\u001b[39m\u001b[34m(candidate_params, cv, more_results)\u001b[39m\n\u001b[32m    962\u001b[39m \u001b[38;5;28;01mif\u001b[39;00m \u001b[38;5;28mself\u001b[39m.verbose > \u001b[32m0\u001b[39m:\n\u001b[32m    963\u001b[39m     \u001b[38;5;28mprint\u001b[39m(\n\u001b[32m    964\u001b[39m         \u001b[33m\"\u001b[39m\u001b[33mFitting \u001b[39m\u001b[38;5;132;01m{0}\u001b[39;00m\u001b[33m folds for each of \u001b[39m\u001b[38;5;132;01m{1}\u001b[39;00m\u001b[33m candidates,\u001b[39m\u001b[33m\"\u001b[39m\n\u001b[32m    965\u001b[39m         \u001b[33m\"\u001b[39m\u001b[33m totalling \u001b[39m\u001b[38;5;132;01m{2}\u001b[39;00m\u001b[33m fits\u001b[39m\u001b[33m\"\u001b[39m.format(\n\u001b[32m    966\u001b[39m             n_splits, n_candidates, n_candidates * n_splits\n\u001b[32m    967\u001b[39m         )\n\u001b[32m    968\u001b[39m     )\n\u001b[32m--> \u001b[39m\u001b[32m970\u001b[39m out = \u001b[43mparallel\u001b[49m\u001b[43m(\u001b[49m\n\u001b[32m    971\u001b[39m \u001b[43m    \u001b[49m\u001b[43mdelayed\u001b[49m\u001b[43m(\u001b[49m\u001b[43m_fit_and_score\u001b[49m\u001b[43m)\u001b[49m\u001b[43m(\u001b[49m\n\u001b[32m    972\u001b[39m \u001b[43m        \u001b[49m\u001b[43mclone\u001b[49m\u001b[43m(\u001b[49m\u001b[43mbase_estimator\u001b[49m\u001b[43m)\u001b[49m\u001b[43m,\u001b[49m\n\u001b[32m    973\u001b[39m \u001b[43m        \u001b[49m\u001b[43mX\u001b[49m\u001b[43m,\u001b[49m\n\u001b[32m    974\u001b[39m \u001b[43m        \u001b[49m\u001b[43my\u001b[49m\u001b[43m,\u001b[49m\n\u001b[32m    975\u001b[39m \u001b[43m        \u001b[49m\u001b[43mtrain\u001b[49m\u001b[43m=\u001b[49m\u001b[43mtrain\u001b[49m\u001b[43m,\u001b[49m\n\u001b[32m    976\u001b[39m \u001b[43m        \u001b[49m\u001b[43mtest\u001b[49m\u001b[43m=\u001b[49m\u001b[43mtest\u001b[49m\u001b[43m,\u001b[49m\n\u001b[32m    977\u001b[39m \u001b[43m        \u001b[49m\u001b[43mparameters\u001b[49m\u001b[43m=\u001b[49m\u001b[43mparameters\u001b[49m\u001b[43m,\u001b[49m\n\u001b[32m    978\u001b[39m \u001b[43m        \u001b[49m\u001b[43msplit_progress\u001b[49m\u001b[43m=\u001b[49m\u001b[43m(\u001b[49m\u001b[43msplit_idx\u001b[49m\u001b[43m,\u001b[49m\u001b[43m \u001b[49m\u001b[43mn_splits\u001b[49m\u001b[43m)\u001b[49m\u001b[43m,\u001b[49m\n\u001b[32m    979\u001b[39m \u001b[43m        \u001b[49m\u001b[43mcandidate_progress\u001b[49m\u001b[43m=\u001b[49m\u001b[43m(\u001b[49m\u001b[43mcand_idx\u001b[49m\u001b[43m,\u001b[49m\u001b[43m \u001b[49m\u001b[43mn_candidates\u001b[49m\u001b[43m)\u001b[49m\u001b[43m,\u001b[49m\n\u001b[32m    980\u001b[39m \u001b[43m        \u001b[49m\u001b[43m*\u001b[49m\u001b[43m*\u001b[49m\u001b[43mfit_and_score_kwargs\u001b[49m\u001b[43m,\u001b[49m\n\u001b[32m    981\u001b[39m \u001b[43m    \u001b[49m\u001b[43m)\u001b[49m\n\u001b[32m    982\u001b[39m \u001b[43m    \u001b[49m\u001b[38;5;28;43;01mfor\u001b[39;49;00m\u001b[43m \u001b[49m\u001b[43m(\u001b[49m\u001b[43mcand_idx\u001b[49m\u001b[43m,\u001b[49m\u001b[43m \u001b[49m\u001b[43mparameters\u001b[49m\u001b[43m)\u001b[49m\u001b[43m,\u001b[49m\u001b[43m \u001b[49m\u001b[43m(\u001b[49m\u001b[43msplit_idx\u001b[49m\u001b[43m,\u001b[49m\u001b[43m \u001b[49m\u001b[43m(\u001b[49m\u001b[43mtrain\u001b[49m\u001b[43m,\u001b[49m\u001b[43m \u001b[49m\u001b[43mtest\u001b[49m\u001b[43m)\u001b[49m\u001b[43m)\u001b[49m\u001b[43m \u001b[49m\u001b[38;5;129;43;01min\u001b[39;49;00m\u001b[43m \u001b[49m\u001b[43mproduct\u001b[49m\u001b[43m(\u001b[49m\n\u001b[32m    983\u001b[39m \u001b[43m        \u001b[49m\u001b[38;5;28;43menumerate\u001b[39;49m\u001b[43m(\u001b[49m\u001b[43mcandidate_params\u001b[49m\u001b[43m)\u001b[49m\u001b[43m,\u001b[49m\n\u001b[32m    984\u001b[39m \u001b[43m        \u001b[49m\u001b[38;5;28;43menumerate\u001b[39;49m\u001b[43m(\u001b[49m\u001b[43mcv\u001b[49m\u001b[43m.\u001b[49m\u001b[43msplit\u001b[49m\u001b[43m(\u001b[49m\u001b[43mX\u001b[49m\u001b[43m,\u001b[49m\u001b[43m \u001b[49m\u001b[43my\u001b[49m\u001b[43m,\u001b[49m\u001b[43m \u001b[49m\u001b[43m*\u001b[49m\u001b[43m*\u001b[49m\u001b[43mrouted_params\u001b[49m\u001b[43m.\u001b[49m\u001b[43msplitter\u001b[49m\u001b[43m.\u001b[49m\u001b[43msplit\u001b[49m\u001b[43m)\u001b[49m\u001b[43m)\u001b[49m\u001b[43m,\u001b[49m\n\u001b[32m    985\u001b[39m \u001b[43m    \u001b[49m\u001b[43m)\u001b[49m\n\u001b[32m    986\u001b[39m \u001b[43m\u001b[49m\u001b[43m)\u001b[49m\n\u001b[32m    988\u001b[39m \u001b[38;5;28;01mif\u001b[39;00m \u001b[38;5;28mlen\u001b[39m(out) < \u001b[32m1\u001b[39m:\n\u001b[32m    989\u001b[39m     \u001b[38;5;28;01mraise\u001b[39;00m \u001b[38;5;167;01mValueError\u001b[39;00m(\n\u001b[32m    990\u001b[39m         \u001b[33m\"\u001b[39m\u001b[33mNo fits were performed. \u001b[39m\u001b[33m\"\u001b[39m\n\u001b[32m    991\u001b[39m         \u001b[33m\"\u001b[39m\u001b[33mWas the CV iterator empty? \u001b[39m\u001b[33m\"\u001b[39m\n\u001b[32m    992\u001b[39m         \u001b[33m\"\u001b[39m\u001b[33mWere there no candidates?\u001b[39m\u001b[33m\"\u001b[39m\n\u001b[32m    993\u001b[39m     )\n",
      "\u001b[36mFile \u001b[39m\u001b[32m~\\AppData\\Local\\Programs\\Python\\Python313\\Lib\\site-packages\\sklearn\\utils\\parallel.py:77\u001b[39m, in \u001b[36mParallel.__call__\u001b[39m\u001b[34m(self, iterable)\u001b[39m\n\u001b[32m     72\u001b[39m config = get_config()\n\u001b[32m     73\u001b[39m iterable_with_config = (\n\u001b[32m     74\u001b[39m     (_with_config(delayed_func, config), args, kwargs)\n\u001b[32m     75\u001b[39m     \u001b[38;5;28;01mfor\u001b[39;00m delayed_func, args, kwargs \u001b[38;5;129;01min\u001b[39;00m iterable\n\u001b[32m     76\u001b[39m )\n\u001b[32m---> \u001b[39m\u001b[32m77\u001b[39m \u001b[38;5;28;01mreturn\u001b[39;00m \u001b[38;5;28;43msuper\u001b[39;49m\u001b[43m(\u001b[49m\u001b[43m)\u001b[49m\u001b[43m.\u001b[49m\u001b[34;43m__call__\u001b[39;49m\u001b[43m(\u001b[49m\u001b[43miterable_with_config\u001b[49m\u001b[43m)\u001b[49m\n",
      "\u001b[36mFile \u001b[39m\u001b[32m~\\AppData\\Local\\Programs\\Python\\Python313\\Lib\\site-packages\\joblib\\parallel.py:2007\u001b[39m, in \u001b[36mParallel.__call__\u001b[39m\u001b[34m(self, iterable)\u001b[39m\n\u001b[32m   2001\u001b[39m \u001b[38;5;66;03m# The first item from the output is blank, but it makes the interpreter\u001b[39;00m\n\u001b[32m   2002\u001b[39m \u001b[38;5;66;03m# progress until it enters the Try/Except block of the generator and\u001b[39;00m\n\u001b[32m   2003\u001b[39m \u001b[38;5;66;03m# reaches the first `yield` statement. This starts the asynchronous\u001b[39;00m\n\u001b[32m   2004\u001b[39m \u001b[38;5;66;03m# dispatch of the tasks to the workers.\u001b[39;00m\n\u001b[32m   2005\u001b[39m \u001b[38;5;28mnext\u001b[39m(output)\n\u001b[32m-> \u001b[39m\u001b[32m2007\u001b[39m \u001b[38;5;28;01mreturn\u001b[39;00m output \u001b[38;5;28;01mif\u001b[39;00m \u001b[38;5;28mself\u001b[39m.return_generator \u001b[38;5;28;01melse\u001b[39;00m \u001b[38;5;28;43mlist\u001b[39;49m\u001b[43m(\u001b[49m\u001b[43moutput\u001b[49m\u001b[43m)\u001b[49m\n",
      "\u001b[36mFile \u001b[39m\u001b[32m~\\AppData\\Local\\Programs\\Python\\Python313\\Lib\\site-packages\\joblib\\parallel.py:1650\u001b[39m, in \u001b[36mParallel._get_outputs\u001b[39m\u001b[34m(self, iterator, pre_dispatch)\u001b[39m\n\u001b[32m   1647\u001b[39m     \u001b[38;5;28;01myield\u001b[39;00m\n\u001b[32m   1649\u001b[39m     \u001b[38;5;28;01mwith\u001b[39;00m \u001b[38;5;28mself\u001b[39m._backend.retrieval_context():\n\u001b[32m-> \u001b[39m\u001b[32m1650\u001b[39m         \u001b[38;5;28;01myield from\u001b[39;00m \u001b[38;5;28mself\u001b[39m._retrieve()\n\u001b[32m   1652\u001b[39m \u001b[38;5;28;01mexcept\u001b[39;00m \u001b[38;5;167;01mGeneratorExit\u001b[39;00m:\n\u001b[32m   1653\u001b[39m     \u001b[38;5;66;03m# The generator has been garbage collected before being fully\u001b[39;00m\n\u001b[32m   1654\u001b[39m     \u001b[38;5;66;03m# consumed. This aborts the remaining tasks if possible and warn\u001b[39;00m\n\u001b[32m   1655\u001b[39m     \u001b[38;5;66;03m# the user if necessary.\u001b[39;00m\n\u001b[32m   1656\u001b[39m     \u001b[38;5;28mself\u001b[39m._exception = \u001b[38;5;28;01mTrue\u001b[39;00m\n",
      "\u001b[36mFile \u001b[39m\u001b[32m~\\AppData\\Local\\Programs\\Python\\Python313\\Lib\\site-packages\\joblib\\parallel.py:1762\u001b[39m, in \u001b[36mParallel._retrieve\u001b[39m\u001b[34m(self)\u001b[39m\n\u001b[32m   1757\u001b[39m \u001b[38;5;66;03m# If the next job is not ready for retrieval yet, we just wait for\u001b[39;00m\n\u001b[32m   1758\u001b[39m \u001b[38;5;66;03m# async callbacks to progress.\u001b[39;00m\n\u001b[32m   1759\u001b[39m \u001b[38;5;28;01mif\u001b[39;00m ((\u001b[38;5;28mlen\u001b[39m(\u001b[38;5;28mself\u001b[39m._jobs) == \u001b[32m0\u001b[39m) \u001b[38;5;129;01mor\u001b[39;00m\n\u001b[32m   1760\u001b[39m     (\u001b[38;5;28mself\u001b[39m._jobs[\u001b[32m0\u001b[39m].get_status(\n\u001b[32m   1761\u001b[39m         timeout=\u001b[38;5;28mself\u001b[39m.timeout) == TASK_PENDING)):\n\u001b[32m-> \u001b[39m\u001b[32m1762\u001b[39m     \u001b[43mtime\u001b[49m\u001b[43m.\u001b[49m\u001b[43msleep\u001b[49m\u001b[43m(\u001b[49m\u001b[32;43m0.01\u001b[39;49m\u001b[43m)\u001b[49m\n\u001b[32m   1763\u001b[39m     \u001b[38;5;28;01mcontinue\u001b[39;00m\n\u001b[32m   1765\u001b[39m \u001b[38;5;66;03m# We need to be careful: the job list can be filling up as\u001b[39;00m\n\u001b[32m   1766\u001b[39m \u001b[38;5;66;03m# we empty it and Python list are not thread-safe by\u001b[39;00m\n\u001b[32m   1767\u001b[39m \u001b[38;5;66;03m# default hence the use of the lock\u001b[39;00m\n",
      "\u001b[31mKeyboardInterrupt\u001b[39m: "
     ]
    }
   ],
   "source": [
    "param_dist_rf = {\n",
    "    'n_estimators': [100, 150, 200, 250],\n",
    "    'max_depth': [10, 15, 20, None],\n",
    "    'min_samples_split': [2, 5, 10],\n",
    "    'min_samples_leaf': [1, 2, 4]\n",
    "}\n",
    "\n",
    "rmse_rf_train, r2_rf_train, rmse_rf_test, r2_rf_test, modelo_rf = modelo_random_forest_hibrido(\n",
    "    X_train, X_test, y_train, y_test, param_dist_rf\n",
    ")\n",
    "\n",
    "print(f\"Random Forest Híbrido (Train) -> RMSE: {rmse_rf_train:.2f}, R²: {r2_rf_train:.2f}\")\n",
    "print(f\"Random Forest Híbrido (Test)  -> RMSE: {rmse_rf_test:.2f}, R²: {r2_rf_test:.2f}\")\n",
    "print(\"Mejores hiperparámetros Random Forest:\", modelo_rf.get_params())"
   ]
  },
  {
   "cell_type": "code",
   "execution_count": null,
   "id": "4dc819b9-79fd-4a59-8fcc-2c65f5d492b0",
   "metadata": {},
   "outputs": [],
   "source": []
  }
 ],
 "metadata": {
  "kernelspec": {
   "display_name": "Python 3 (ipykernel)",
   "language": "python",
   "name": "python3"
  },
  "language_info": {
   "codemirror_mode": {
    "name": "ipython",
    "version": 3
   },
   "file_extension": ".py",
   "mimetype": "text/x-python",
   "name": "python",
   "nbconvert_exporter": "python",
   "pygments_lexer": "ipython3",
   "version": "3.13.3"
  }
 },
 "nbformat": 4,
 "nbformat_minor": 5
}
