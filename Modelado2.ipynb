{
 "cells": [
  {
   "cell_type": "markdown",
   "id": "17a6ab1c-1b64-4068-9c37-4a0d7e9b2ee9",
   "metadata": {},
   "source": [
    "## Modelado 2"
   ]
  },
  {
   "cell_type": "code",
   "execution_count": null,
   "id": "5061ba3a-df25-4130-9198-08c055b43a45",
   "metadata": {},
   "outputs": [],
   "source": [
    "import pandas as pd\n",
    "import numpy as np\n",
    "import matplotlib.pyplot as plt\n",
    "import seaborn as sns\n",
    "from sklearn.model_selection import train_test_split\n",
    "from sklearn.preprocessing import StandardScaler\n",
    "from sklearn.metrics import mean_squared_error, mean_absolute_error, r2_score\n",
    "from sklearn.linear_model import LinearRegression, Ridge, Lasso\n",
    "from sklearn.ensemble import RandomForestRegressor, GradientBoostingRegressor\n",
    "from sklearn.svm import SVR\n",
    "from sklearn.model_selection import GridSearchCV, cross_val_score\n",
    "from xgboost import XGBRegressor\n",
    "from sklearn.pipeline import Pipeline"
   ]
  },
  {
   "cell_type": "code",
   "execution_count": null,
   "id": "290d5958-c272-4ebc-a3cf-5e1c65a0bc0a",
   "metadata": {},
   "outputs": [],
   "source": [
    "# Cargar los datos\n",
    "data = pd.read_csv('dataset6.csv')"
   ]
  },
  {
   "cell_type": "code",
   "execution_count": null,
   "id": "da14b072-4300-4d05-b13b-25eaa3e01158",
   "metadata": {},
   "outputs": [],
   "source": [
    "# Separar características y variable objetivo\n",
    "X = data.drop('total_alquileres', axis=1)\n",
    "y = data['total_alquileres']"
   ]
  },
  {
   "cell_type": "code",
   "execution_count": null,
   "id": "3274f7c6-fddb-4ae8-a7ce-e98ea901c589",
   "metadata": {},
   "outputs": [],
   "source": [
    "# Ver distribución de la variable objetivo\n",
    "plt.figure(figsize=(10, 6))\n",
    "sns.histplot(y, bins=50, kde=True)\n",
    "plt.title('Distribución de total_alquileres')\n",
    "plt.show()"
   ]
  },
  {
   "cell_type": "code",
   "execution_count": null,
   "id": "027da84d-e1aa-4d2e-8671-e32d29baa60b",
   "metadata": {},
   "outputs": [],
   "source": [
    "# Podríamos considerar aplicar una transformación logarítmica si la distribución es muy sesgada\n",
    "y_log = np.log1p(y)\n",
    "plt.figure(figsize=(10, 6))\n",
    "sns.histplot(y_log, bins=50, kde=True)\n",
    "plt.title('Distribución de log(total_alquileres + 1)')\n",
    "plt.show()"
   ]
  },
  {
   "cell_type": "markdown",
   "id": "2d8d1d3f-5274-42a2-a609-56908130956c",
   "metadata": {},
   "source": [
    "## Division de datos"
   ]
  },
  {
   "cell_type": "code",
   "execution_count": null,
   "id": "e4340f74-5ae5-4321-9c4b-ca0a29daa75f",
   "metadata": {},
   "outputs": [],
   "source": [
    "# Dividir en conjuntos de entrenamiento y prueba\n",
    "X_train, X_test, y_train, y_test = train_test_split(X, y_log, test_size=0.2, random_state=42)\n",
    "\n",
    "# Escalar las características numéricas (excluyendo las codificadas one-hot)\n",
    "numeric_cols = ['temperatura', 'sensacion_termica', 'humedad', 'velocidad_viento']\n",
    "scaler = StandardScaler()\n",
    "X_train[numeric_cols] = scaler.fit_transform(X_train[numeric_cols])\n",
    "X_test[numeric_cols] = scaler.transform(X_test[numeric_cols])"
   ]
  },
  {
   "cell_type": "markdown",
   "id": "75d50987-71c9-4e08-80d4-ae9d7f5f9152",
   "metadata": {},
   "source": [
    "## Modelado"
   ]
  },
  {
   "cell_type": "code",
   "execution_count": null,
   "id": "3e311c33-935e-44ce-94b8-cedda48176fd",
   "metadata": {},
   "outputs": [],
   "source": [
    "# Modelo de regresión lineal\n",
    "lr = LinearRegression()\n",
    "lr.fit(X_train, y_train)\n",
    "y_pred_lr = lr.predict(X_test)\n",
    "\n",
    "# Métricas\n",
    "mse_lr = mean_squared_error(y_test, y_pred_lr)\n",
    "mae_lr = mean_absolute_error(y_test, y_pred_lr)\n",
    "r2_lr = r2_score(y_test, y_pred_lr)\n",
    "\n",
    "print(f\"Regresión Lineal - MSE: {mse_lr:.2f}, MAE: {mae_lr:.2f}, R2: {r2_lr:.2f}\")"
   ]
  },
  {
   "cell_type": "code",
   "execution_count": null,
   "id": "67c5395f-db93-4cfd-aaf8-010ff3e96015",
   "metadata": {},
   "outputs": [],
   "source": [
    "# Ridge Regression con búsqueda de hiperparámetros\n",
    "ridge = Ridge()\n",
    "param_grid = {'alpha': [0.01, 0.1, 1, 10, 100]}\n",
    "grid_ridge = GridSearchCV(ridge, param_grid, cv=5, scoring='neg_mean_squared_error')\n",
    "grid_ridge.fit(X_train, y_train)\n",
    "\n",
    "best_ridge = grid_ridge.best_estimator_\n",
    "y_pred_ridge = best_ridge.predict(X_test)\n",
    "\n",
    "mse_ridge = mean_squared_error(y_test, y_pred_ridge)\n",
    "mae_ridge = mean_absolute_error(y_test, y_pred_ridge)\n",
    "r2_ridge = r2_score(y_test, y_pred_ridge)\n",
    "\n",
    "print(f\"Ridge Regression - MSE: {mse_ridge:.2f}, MAE: {mae_ridge:.2f}, R2: {r2_ridge:.2f}\")\n",
    "print(f\"Mejor alpha: {grid_ridge.best_params_}\")"
   ]
  },
  {
   "cell_type": "code",
   "execution_count": null,
   "id": "0bfcd713-6547-4548-b90d-f11291e6c381",
   "metadata": {},
   "outputs": [],
   "source": [
    "# Lasso Regression con búsqueda de hiperparámetros\n",
    "lasso = Lasso()\n",
    "param_grid = {'alpha': [0.0001, 0.001, 0.01, 0.1, 1, 10]}\n",
    "grid_lasso = GridSearchCV(lasso, param_grid, cv=5, scoring='neg_mean_squared_error')\n",
    "grid_lasso.fit(X_train, y_train)\n",
    "\n",
    "best_lasso = grid_lasso.best_estimator_\n",
    "y_pred_lasso = best_lasso.predict(X_test)\n",
    "\n",
    "mse_lasso = mean_squared_error(y_test, y_pred_lasso)\n",
    "mae_lasso = mean_absolute_error(y_test, y_pred_lasso)\n",
    "r2_lasso = r2_score(y_test, y_pred_lasso)\n",
    "\n",
    "print(f\"Lasso Regression - MSE: {mse_lasso:.2f}, MAE: {mae_lasso:.2f}, R2: {r2_lasso:.2f}\")\n",
    "print(f\"Mejor alpha: {grid_lasso.best_params_}\")"
   ]
  },
  {
   "cell_type": "code",
   "execution_count": null,
   "id": "f8a00d92-0feb-4c06-9205-83df7c90a386",
   "metadata": {},
   "outputs": [],
   "source": [
    "# Random Forest Regressor\n",
    "rf = RandomForestRegressor(random_state=42)\n",
    "param_grid = {\n",
    "    'n_estimators': [100, 200],\n",
    "    'max_depth': [10, 20],\n",
    "    'min_samples_split': [2, 5]\n",
    "}\n",
    "grid_rf = GridSearchCV(rf, param_grid, cv=5, scoring='neg_mean_squared_error', n_jobs=-1)\n",
    "grid_rf.fit(X_train, y_train)\n",
    "\n",
    "best_rf = grid_rf.best_estimator_\n",
    "y_pred_rf = best_rf.predict(X_test)\n",
    "\n",
    "mse_rf = mean_squared_error(y_test, y_pred_rf)\n",
    "mae_rf = mean_absolute_error(y_test, y_pred_rf)\n",
    "r2_rf = r2_score(y_test, y_pred_rf)\n",
    "\n",
    "print(f\"Random Forest - MSE: {mse_rf:.2f}, MAE: {mae_rf:.2f}, R2: {r2_rf:.2f}\")\n",
    "print(f\"Mejores parámetros: {grid_rf.best_params_}\")\n",
    "\n",
    "# Importancia de características\n",
    "feature_importances = pd.DataFrame(best_rf.feature_importances_,\n",
    "                                   index=X_train.columns,\n",
    "                                   columns=['importance']).sort_values('importance', ascending=False)\n",
    "print(feature_importances.head(10))"
   ]
  },
  {
   "cell_type": "code",
   "execution_count": null,
   "id": "1985fc0b-d038-4f01-8914-c04ad8ac94c2",
   "metadata": {},
   "outputs": [],
   "source": []
  }
 ],
 "metadata": {
  "kernelspec": {
   "display_name": "Python 3 (ipykernel)",
   "language": "python",
   "name": "python3"
  },
  "language_info": {
   "codemirror_mode": {
    "name": "ipython",
    "version": 3
   },
   "file_extension": ".py",
   "mimetype": "text/x-python",
   "name": "python",
   "nbconvert_exporter": "python",
   "pygments_lexer": "ipython3",
   "version": "3.13.3"
  }
 },
 "nbformat": 4,
 "nbformat_minor": 5
}
